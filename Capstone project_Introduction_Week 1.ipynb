{
 "cells": [
  {
   "cell_type": "markdown",
   "metadata": {},
   "source": [
    "# Capstone Project - Car accident severity (Week 1)\n",
    "### Applied Data Science Capstone"
   ]
  },
  {
   "cell_type": "markdown",
   "metadata": {},
   "source": [
    "### 1.\tIntroduction\n",
    "#### 1.1\tBackground\n",
    "Road crash fatalities and disabilities have become very common these days and is recognised as a major public health issue. Approximately 1.35 million people die and 30-50 million suffer non-fatal injuries in every year from road accidents globally. There are different factors that cause road accidents, including speeding, weather, time, road conditions etc. Data analytics has emerged as a great technique that allows data scientists to extract meaningful information from a large set of data. Accident modelling on the different contributing factors of road accidents could provide an insight into the leading conditions for road accidents. \n",
    "#### 1.2\tProblem \n",
    "In this project, road accident data for Washington state has been analysed. Machine learning techniques have been used on road accident data for King county to build a model which can be used for real time accident prediction for the same county. \n",
    "#### 1.3 Interest\n",
    "People who live in Washington state, especially the drivers would be very interested in real time accident prediction so that they can drive more carefully or change their route. People from other states would also be interested in this analysis since they can also avoid similar travel situations to prevent accidents. \n"
   ]
  },
  {
   "cell_type": "code",
   "execution_count": null,
   "metadata": {},
   "outputs": [],
   "source": []
  }
 ],
 "metadata": {
  "kernelspec": {
   "display_name": "Python 3",
   "language": "python",
   "name": "python3"
  },
  "language_info": {
   "codemirror_mode": {
    "name": "ipython",
    "version": 3
   },
   "file_extension": ".py",
   "mimetype": "text/x-python",
   "name": "python",
   "nbconvert_exporter": "python",
   "pygments_lexer": "ipython3",
   "version": "3.7.6"
  }
 },
 "nbformat": 4,
 "nbformat_minor": 4
}
